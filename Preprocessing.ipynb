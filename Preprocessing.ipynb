{
 "cells": [
  {
   "cell_type": "code",
   "execution_count": 1,
   "metadata": {},
   "outputs": [],
   "source": [
    "import pandas as pd\n",
    "import numpy as np\n",
    "import os"
   ]
  },
  {
   "cell_type": "code",
   "execution_count": 6,
   "metadata": {},
   "outputs": [],
   "source": [
    "INPUT_DATA = 'C:/Users/julen/OneDrive/Escritorio/IA/CS585-Natural-Language-Processing/Assignment_4/handout/bert_input_data/'\n",
    "data_name = ['train', 'test', 'eval']\n",
    "for name in data_name:\n",
    "    data = pd.read_csv(os.path.join(INPUT_DATA,f'lang_id_{name}.csv'))\n",
    "    data = data['text']\n",
    "    data.to_csv(os.path.join(INPUT_DATA,f'{name}.txt'), index = False, header = False)\n",
    "    \n"
   ]
  }
 ],
 "metadata": {
  "kernelspec": {
   "display_name": "Python 3",
   "language": "python",
   "name": "python3"
  },
  "language_info": {
   "codemirror_mode": {
    "name": "ipython",
    "version": 3
   },
   "file_extension": ".py",
   "mimetype": "text/x-python",
   "name": "python",
   "nbconvert_exporter": "python",
   "pygments_lexer": "ipython3",
   "version": "3.7.4"
  }
 },
 "nbformat": 4,
 "nbformat_minor": 2
}
